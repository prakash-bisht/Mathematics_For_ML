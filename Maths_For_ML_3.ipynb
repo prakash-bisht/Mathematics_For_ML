{
  "nbformat": 4,
  "nbformat_minor": 0,
  "metadata": {
    "colab": {
      "provenance": [],
      "collapsed_sections": [
        "0bdXgubUVBiW",
        "1W9YbblHVMkm"
      ],
      "authorship_tag": "ABX9TyPyz6A1sAlUvE2FG8MvWnx3",
      "include_colab_link": true
    },
    "kernelspec": {
      "name": "python3",
      "display_name": "Python 3"
    },
    "language_info": {
      "name": "python"
    },
    "widgets": {
      "application/vnd.jupyter.widget-state+json": {
        "f7270a636d9f410583ec97a9b70546ec": {
          "model_module": "@jupyter-widgets/controls",
          "model_name": "VBoxModel",
          "model_module_version": "1.5.0",
          "state": {
            "_dom_classes": [
              "widget-interact"
            ],
            "_model_module": "@jupyter-widgets/controls",
            "_model_module_version": "1.5.0",
            "_model_name": "VBoxModel",
            "_view_count": null,
            "_view_module": "@jupyter-widgets/controls",
            "_view_module_version": "1.5.0",
            "_view_name": "VBoxView",
            "box_style": "",
            "children": [
              "IPY_MODEL_20b5eb0a584744bcbffba8ec208b94da",
              "IPY_MODEL_4c6c14f4c3014c918de88b231f9c0ea4",
              "IPY_MODEL_d978fd23f50c47e7bd256c4f58ccae41",
              "IPY_MODEL_38ae4c0d7a19458aa2257e87c443a834",
              "IPY_MODEL_59af42c441364d4eafc27baa87069bd4",
              "IPY_MODEL_6bed57ca5eb74ee7b0480abc1dfe43ba",
              "IPY_MODEL_c32540de38334558b55acaf30acf320b"
            ],
            "layout": "IPY_MODEL_4d720b47d86f467d91d7ec95bfb9d40f"
          }
        },
        "20b5eb0a584744bcbffba8ec208b94da": {
          "model_module": "@jupyter-widgets/controls",
          "model_name": "IntTextModel",
          "model_module_version": "1.5.0",
          "state": {
            "_dom_classes": [],
            "_model_module": "@jupyter-widgets/controls",
            "_model_module_version": "1.5.0",
            "_model_name": "IntTextModel",
            "_view_count": null,
            "_view_module": "@jupyter-widgets/controls",
            "_view_module_version": "1.5.0",
            "_view_name": "IntTextView",
            "continuous_update": false,
            "description": "Users A:",
            "description_tooltip": null,
            "disabled": false,
            "layout": "IPY_MODEL_82138dc5048943f1ba1b5ce1ace6a747",
            "step": 1,
            "style": "IPY_MODEL_9d9f54c705814b1a8d2e5d1fbb6093d7",
            "value": 4632
          }
        },
        "4c6c14f4c3014c918de88b231f9c0ea4": {
          "model_module": "@jupyter-widgets/controls",
          "model_name": "IntTextModel",
          "model_module_version": "1.5.0",
          "state": {
            "_dom_classes": [],
            "_model_module": "@jupyter-widgets/controls",
            "_model_module_version": "1.5.0",
            "_model_name": "IntTextModel",
            "_view_count": null,
            "_view_module": "@jupyter-widgets/controls",
            "_view_module_version": "1.5.0",
            "_view_name": "IntTextView",
            "continuous_update": false,
            "description": "Conversions A:",
            "description_tooltip": null,
            "disabled": false,
            "layout": "IPY_MODEL_246e675d5a8440c98242d397c95b6ea9",
            "step": 1,
            "style": "IPY_MODEL_2a8dd47570834d51b73e6373e78f44b6",
            "value": 576
          }
        },
        "d978fd23f50c47e7bd256c4f58ccae41": {
          "model_module": "@jupyter-widgets/controls",
          "model_name": "IntTextModel",
          "model_module_version": "1.5.0",
          "state": {
            "_dom_classes": [],
            "_model_module": "@jupyter-widgets/controls",
            "_model_module_version": "1.5.0",
            "_model_name": "IntTextModel",
            "_view_count": null,
            "_view_module": "@jupyter-widgets/controls",
            "_view_module_version": "1.5.0",
            "_view_name": "IntTextView",
            "continuous_update": false,
            "description": "Users B:",
            "description_tooltip": null,
            "disabled": false,
            "layout": "IPY_MODEL_4b88bb7a0d7f4b1980d10ed4cbff1413",
            "step": 1,
            "style": "IPY_MODEL_fb1c576484bf453d82bcd6ffac36d07a",
            "value": 4728
          }
        },
        "38ae4c0d7a19458aa2257e87c443a834": {
          "model_module": "@jupyter-widgets/controls",
          "model_name": "IntTextModel",
          "model_module_version": "1.5.0",
          "state": {
            "_dom_classes": [],
            "_model_module": "@jupyter-widgets/controls",
            "_model_module_version": "1.5.0",
            "_model_name": "IntTextModel",
            "_view_count": null,
            "_view_module": "@jupyter-widgets/controls",
            "_view_module_version": "1.5.0",
            "_view_name": "IntTextView",
            "continuous_update": false,
            "description": "Conversions B:",
            "description_tooltip": null,
            "disabled": false,
            "layout": "IPY_MODEL_cfee9f526c1f4078a7510f9a5c28ae97",
            "step": 1,
            "style": "IPY_MODEL_41e02c2d1dc24e7180d2d00e38ce20b2",
            "value": 718
          }
        },
        "59af42c441364d4eafc27baa87069bd4": {
          "model_module": "@jupyter-widgets/controls",
          "model_name": "FloatSliderModel",
          "model_module_version": "1.5.0",
          "state": {
            "_dom_classes": [],
            "_model_module": "@jupyter-widgets/controls",
            "_model_module_version": "1.5.0",
            "_model_name": "FloatSliderModel",
            "_view_count": null,
            "_view_module": "@jupyter-widgets/controls",
            "_view_module_version": "1.5.0",
            "_view_name": "FloatSliderView",
            "continuous_update": false,
            "description": "Alpha:",
            "description_tooltip": null,
            "disabled": false,
            "layout": "IPY_MODEL_20e33217b137455aa9090f888f0e615e",
            "max": 1,
            "min": 0,
            "orientation": "horizontal",
            "readout": true,
            "readout_format": ".2f",
            "step": 0.001,
            "style": "IPY_MODEL_1330f72736b54b149bab0acf78184539",
            "value": 0.05
          }
        },
        "6bed57ca5eb74ee7b0480abc1dfe43ba": {
          "model_module": "@jupyter-widgets/controls",
          "model_name": "ButtonModel",
          "model_module_version": "1.5.0",
          "state": {
            "_dom_classes": [],
            "_model_module": "@jupyter-widgets/controls",
            "_model_module_version": "1.5.0",
            "_model_name": "ButtonModel",
            "_view_count": null,
            "_view_module": "@jupyter-widgets/controls",
            "_view_module_version": "1.5.0",
            "_view_name": "ButtonView",
            "button_style": "",
            "description": "Run Interact",
            "disabled": false,
            "icon": "",
            "layout": "IPY_MODEL_61407359cfbe40eda20993dd2d23c8a4",
            "style": "IPY_MODEL_d9bea8201ff5417398e2bedf7e426d85",
            "tooltip": ""
          }
        },
        "c32540de38334558b55acaf30acf320b": {
          "model_module": "@jupyter-widgets/output",
          "model_name": "OutputModel",
          "model_module_version": "1.0.0",
          "state": {
            "_dom_classes": [],
            "_model_module": "@jupyter-widgets/output",
            "_model_module_version": "1.0.0",
            "_model_name": "OutputModel",
            "_view_count": null,
            "_view_module": "@jupyter-widgets/output",
            "_view_module_version": "1.0.0",
            "_view_name": "OutputView",
            "layout": "IPY_MODEL_2a86b24754ef4b589df27683e0620258",
            "msg_id": "",
            "outputs": [
              {
                "output_type": "stream",
                "name": "stdout",
                "text": [
                  "The null hypothesis can be rejected at the 0.05000 level of significance: True\n",
                  "\n",
                  "There is enough statistical evidence against H0.\n",
                  "Thus it can be concluded that there is a statistically significant difference between the two proportions.\n"
                ]
              }
            ]
          }
        },
        "4d720b47d86f467d91d7ec95bfb9d40f": {
          "model_module": "@jupyter-widgets/base",
          "model_name": "LayoutModel",
          "model_module_version": "1.2.0",
          "state": {
            "_model_module": "@jupyter-widgets/base",
            "_model_module_version": "1.2.0",
            "_model_name": "LayoutModel",
            "_view_count": null,
            "_view_module": "@jupyter-widgets/base",
            "_view_module_version": "1.2.0",
            "_view_name": "LayoutView",
            "align_content": null,
            "align_items": null,
            "align_self": null,
            "border": null,
            "bottom": null,
            "display": null,
            "flex": null,
            "flex_flow": null,
            "grid_area": null,
            "grid_auto_columns": null,
            "grid_auto_flow": null,
            "grid_auto_rows": null,
            "grid_column": null,
            "grid_gap": null,
            "grid_row": null,
            "grid_template_areas": null,
            "grid_template_columns": null,
            "grid_template_rows": null,
            "height": null,
            "justify_content": null,
            "justify_items": null,
            "left": null,
            "margin": null,
            "max_height": null,
            "max_width": null,
            "min_height": null,
            "min_width": null,
            "object_fit": null,
            "object_position": null,
            "order": null,
            "overflow": null,
            "overflow_x": null,
            "overflow_y": null,
            "padding": null,
            "right": null,
            "top": null,
            "visibility": null,
            "width": null
          }
        },
        "82138dc5048943f1ba1b5ce1ace6a747": {
          "model_module": "@jupyter-widgets/base",
          "model_name": "LayoutModel",
          "model_module_version": "1.2.0",
          "state": {
            "_model_module": "@jupyter-widgets/base",
            "_model_module_version": "1.2.0",
            "_model_name": "LayoutModel",
            "_view_count": null,
            "_view_module": "@jupyter-widgets/base",
            "_view_module_version": "1.2.0",
            "_view_name": "LayoutView",
            "align_content": null,
            "align_items": null,
            "align_self": null,
            "border": null,
            "bottom": null,
            "display": null,
            "flex": null,
            "flex_flow": null,
            "grid_area": null,
            "grid_auto_columns": null,
            "grid_auto_flow": null,
            "grid_auto_rows": null,
            "grid_column": null,
            "grid_gap": null,
            "grid_row": null,
            "grid_template_areas": null,
            "grid_template_columns": null,
            "grid_template_rows": null,
            "height": null,
            "justify_content": null,
            "justify_items": null,
            "left": null,
            "margin": null,
            "max_height": null,
            "max_width": null,
            "min_height": null,
            "min_width": null,
            "object_fit": null,
            "object_position": null,
            "order": null,
            "overflow": null,
            "overflow_x": null,
            "overflow_y": null,
            "padding": null,
            "right": null,
            "top": null,
            "visibility": null,
            "width": null
          }
        },
        "9d9f54c705814b1a8d2e5d1fbb6093d7": {
          "model_module": "@jupyter-widgets/controls",
          "model_name": "DescriptionStyleModel",
          "model_module_version": "1.5.0",
          "state": {
            "_model_module": "@jupyter-widgets/controls",
            "_model_module_version": "1.5.0",
            "_model_name": "DescriptionStyleModel",
            "_view_count": null,
            "_view_module": "@jupyter-widgets/base",
            "_view_module_version": "1.2.0",
            "_view_name": "StyleView",
            "description_width": ""
          }
        },
        "246e675d5a8440c98242d397c95b6ea9": {
          "model_module": "@jupyter-widgets/base",
          "model_name": "LayoutModel",
          "model_module_version": "1.2.0",
          "state": {
            "_model_module": "@jupyter-widgets/base",
            "_model_module_version": "1.2.0",
            "_model_name": "LayoutModel",
            "_view_count": null,
            "_view_module": "@jupyter-widgets/base",
            "_view_module_version": "1.2.0",
            "_view_name": "LayoutView",
            "align_content": null,
            "align_items": null,
            "align_self": null,
            "border": null,
            "bottom": null,
            "display": null,
            "flex": null,
            "flex_flow": null,
            "grid_area": null,
            "grid_auto_columns": null,
            "grid_auto_flow": null,
            "grid_auto_rows": null,
            "grid_column": null,
            "grid_gap": null,
            "grid_row": null,
            "grid_template_areas": null,
            "grid_template_columns": null,
            "grid_template_rows": null,
            "height": null,
            "justify_content": null,
            "justify_items": null,
            "left": null,
            "margin": null,
            "max_height": null,
            "max_width": null,
            "min_height": null,
            "min_width": null,
            "object_fit": null,
            "object_position": null,
            "order": null,
            "overflow": null,
            "overflow_x": null,
            "overflow_y": null,
            "padding": null,
            "right": null,
            "top": null,
            "visibility": null,
            "width": null
          }
        },
        "2a8dd47570834d51b73e6373e78f44b6": {
          "model_module": "@jupyter-widgets/controls",
          "model_name": "DescriptionStyleModel",
          "model_module_version": "1.5.0",
          "state": {
            "_model_module": "@jupyter-widgets/controls",
            "_model_module_version": "1.5.0",
            "_model_name": "DescriptionStyleModel",
            "_view_count": null,
            "_view_module": "@jupyter-widgets/base",
            "_view_module_version": "1.2.0",
            "_view_name": "StyleView",
            "description_width": "initial"
          }
        },
        "4b88bb7a0d7f4b1980d10ed4cbff1413": {
          "model_module": "@jupyter-widgets/base",
          "model_name": "LayoutModel",
          "model_module_version": "1.2.0",
          "state": {
            "_model_module": "@jupyter-widgets/base",
            "_model_module_version": "1.2.0",
            "_model_name": "LayoutModel",
            "_view_count": null,
            "_view_module": "@jupyter-widgets/base",
            "_view_module_version": "1.2.0",
            "_view_name": "LayoutView",
            "align_content": null,
            "align_items": null,
            "align_self": null,
            "border": null,
            "bottom": null,
            "display": null,
            "flex": null,
            "flex_flow": null,
            "grid_area": null,
            "grid_auto_columns": null,
            "grid_auto_flow": null,
            "grid_auto_rows": null,
            "grid_column": null,
            "grid_gap": null,
            "grid_row": null,
            "grid_template_areas": null,
            "grid_template_columns": null,
            "grid_template_rows": null,
            "height": null,
            "justify_content": null,
            "justify_items": null,
            "left": null,
            "margin": null,
            "max_height": null,
            "max_width": null,
            "min_height": null,
            "min_width": null,
            "object_fit": null,
            "object_position": null,
            "order": null,
            "overflow": null,
            "overflow_x": null,
            "overflow_y": null,
            "padding": null,
            "right": null,
            "top": null,
            "visibility": null,
            "width": null
          }
        },
        "fb1c576484bf453d82bcd6ffac36d07a": {
          "model_module": "@jupyter-widgets/controls",
          "model_name": "DescriptionStyleModel",
          "model_module_version": "1.5.0",
          "state": {
            "_model_module": "@jupyter-widgets/controls",
            "_model_module_version": "1.5.0",
            "_model_name": "DescriptionStyleModel",
            "_view_count": null,
            "_view_module": "@jupyter-widgets/base",
            "_view_module_version": "1.2.0",
            "_view_name": "StyleView",
            "description_width": ""
          }
        },
        "cfee9f526c1f4078a7510f9a5c28ae97": {
          "model_module": "@jupyter-widgets/base",
          "model_name": "LayoutModel",
          "model_module_version": "1.2.0",
          "state": {
            "_model_module": "@jupyter-widgets/base",
            "_model_module_version": "1.2.0",
            "_model_name": "LayoutModel",
            "_view_count": null,
            "_view_module": "@jupyter-widgets/base",
            "_view_module_version": "1.2.0",
            "_view_name": "LayoutView",
            "align_content": null,
            "align_items": null,
            "align_self": null,
            "border": null,
            "bottom": null,
            "display": null,
            "flex": null,
            "flex_flow": null,
            "grid_area": null,
            "grid_auto_columns": null,
            "grid_auto_flow": null,
            "grid_auto_rows": null,
            "grid_column": null,
            "grid_gap": null,
            "grid_row": null,
            "grid_template_areas": null,
            "grid_template_columns": null,
            "grid_template_rows": null,
            "height": null,
            "justify_content": null,
            "justify_items": null,
            "left": null,
            "margin": null,
            "max_height": null,
            "max_width": null,
            "min_height": null,
            "min_width": null,
            "object_fit": null,
            "object_position": null,
            "order": null,
            "overflow": null,
            "overflow_x": null,
            "overflow_y": null,
            "padding": null,
            "right": null,
            "top": null,
            "visibility": null,
            "width": null
          }
        },
        "41e02c2d1dc24e7180d2d00e38ce20b2": {
          "model_module": "@jupyter-widgets/controls",
          "model_name": "DescriptionStyleModel",
          "model_module_version": "1.5.0",
          "state": {
            "_model_module": "@jupyter-widgets/controls",
            "_model_module_version": "1.5.0",
            "_model_name": "DescriptionStyleModel",
            "_view_count": null,
            "_view_module": "@jupyter-widgets/base",
            "_view_module_version": "1.2.0",
            "_view_name": "StyleView",
            "description_width": "initial"
          }
        },
        "20e33217b137455aa9090f888f0e615e": {
          "model_module": "@jupyter-widgets/base",
          "model_name": "LayoutModel",
          "model_module_version": "1.2.0",
          "state": {
            "_model_module": "@jupyter-widgets/base",
            "_model_module_version": "1.2.0",
            "_model_name": "LayoutModel",
            "_view_count": null,
            "_view_module": "@jupyter-widgets/base",
            "_view_module_version": "1.2.0",
            "_view_name": "LayoutView",
            "align_content": null,
            "align_items": null,
            "align_self": null,
            "border": null,
            "bottom": null,
            "display": null,
            "flex": null,
            "flex_flow": null,
            "grid_area": null,
            "grid_auto_columns": null,
            "grid_auto_flow": null,
            "grid_auto_rows": null,
            "grid_column": null,
            "grid_gap": null,
            "grid_row": null,
            "grid_template_areas": null,
            "grid_template_columns": null,
            "grid_template_rows": null,
            "height": null,
            "justify_content": null,
            "justify_items": null,
            "left": null,
            "margin": null,
            "max_height": null,
            "max_width": null,
            "min_height": null,
            "min_width": null,
            "object_fit": null,
            "object_position": null,
            "order": null,
            "overflow": null,
            "overflow_x": null,
            "overflow_y": null,
            "padding": null,
            "right": null,
            "top": null,
            "visibility": null,
            "width": null
          }
        },
        "1330f72736b54b149bab0acf78184539": {
          "model_module": "@jupyter-widgets/controls",
          "model_name": "SliderStyleModel",
          "model_module_version": "1.5.0",
          "state": {
            "_model_module": "@jupyter-widgets/controls",
            "_model_module_version": "1.5.0",
            "_model_name": "SliderStyleModel",
            "_view_count": null,
            "_view_module": "@jupyter-widgets/base",
            "_view_module_version": "1.2.0",
            "_view_name": "StyleView",
            "description_width": "",
            "handle_color": null
          }
        },
        "61407359cfbe40eda20993dd2d23c8a4": {
          "model_module": "@jupyter-widgets/base",
          "model_name": "LayoutModel",
          "model_module_version": "1.2.0",
          "state": {
            "_model_module": "@jupyter-widgets/base",
            "_model_module_version": "1.2.0",
            "_model_name": "LayoutModel",
            "_view_count": null,
            "_view_module": "@jupyter-widgets/base",
            "_view_module_version": "1.2.0",
            "_view_name": "LayoutView",
            "align_content": null,
            "align_items": null,
            "align_self": null,
            "border": null,
            "bottom": null,
            "display": null,
            "flex": null,
            "flex_flow": null,
            "grid_area": null,
            "grid_auto_columns": null,
            "grid_auto_flow": null,
            "grid_auto_rows": null,
            "grid_column": null,
            "grid_gap": null,
            "grid_row": null,
            "grid_template_areas": null,
            "grid_template_columns": null,
            "grid_template_rows": null,
            "height": null,
            "justify_content": null,
            "justify_items": null,
            "left": null,
            "margin": null,
            "max_height": null,
            "max_width": null,
            "min_height": null,
            "min_width": null,
            "object_fit": null,
            "object_position": null,
            "order": null,
            "overflow": null,
            "overflow_x": null,
            "overflow_y": null,
            "padding": null,
            "right": null,
            "top": null,
            "visibility": null,
            "width": null
          }
        },
        "d9bea8201ff5417398e2bedf7e426d85": {
          "model_module": "@jupyter-widgets/controls",
          "model_name": "ButtonStyleModel",
          "model_module_version": "1.5.0",
          "state": {
            "_model_module": "@jupyter-widgets/controls",
            "_model_module_version": "1.5.0",
            "_model_name": "ButtonStyleModel",
            "_view_count": null,
            "_view_module": "@jupyter-widgets/base",
            "_view_module_version": "1.2.0",
            "_view_name": "StyleView",
            "button_color": null,
            "font_weight": ""
          }
        },
        "2a86b24754ef4b589df27683e0620258": {
          "model_module": "@jupyter-widgets/base",
          "model_name": "LayoutModel",
          "model_module_version": "1.2.0",
          "state": {
            "_model_module": "@jupyter-widgets/base",
            "_model_module_version": "1.2.0",
            "_model_name": "LayoutModel",
            "_view_count": null,
            "_view_module": "@jupyter-widgets/base",
            "_view_module_version": "1.2.0",
            "_view_name": "LayoutView",
            "align_content": null,
            "align_items": null,
            "align_self": null,
            "border": null,
            "bottom": null,
            "display": null,
            "flex": null,
            "flex_flow": null,
            "grid_area": null,
            "grid_auto_columns": null,
            "grid_auto_flow": null,
            "grid_auto_rows": null,
            "grid_column": null,
            "grid_gap": null,
            "grid_row": null,
            "grid_template_areas": null,
            "grid_template_columns": null,
            "grid_template_rows": null,
            "height": null,
            "justify_content": null,
            "justify_items": null,
            "left": null,
            "margin": null,
            "max_height": null,
            "max_width": null,
            "min_height": null,
            "min_width": null,
            "object_fit": null,
            "object_position": null,
            "order": null,
            "overflow": null,
            "overflow_x": null,
            "overflow_y": null,
            "padding": null,
            "right": null,
            "top": null,
            "visibility": null,
            "width": null
          }
        }
      }
    }
  },
  "cells": [
    {
      "cell_type": "markdown",
      "metadata": {
        "id": "view-in-github",
        "colab_type": "text"
      },
      "source": [
        "<a href=\"https://colab.research.google.com/github/prakash-bisht/Mathematics_For_ML/blob/main/Maths_For_ML_3.ipynb\" target=\"_parent\"><img src=\"https://colab.research.google.com/assets/colab-badge.svg\" alt=\"Open In Colab\"/></a>"
      ]
    },
    {
      "cell_type": "code",
      "execution_count": 1,
      "metadata": {
        "id": "94HVwsMHnhJV"
      },
      "outputs": [],
      "source": [
        "import math\n",
        "import numpy as np\n",
        "import pandas as pd\n",
        "import scipy.stats as stats\n",
        "from dataclasses import dataclass\n",
        "import utils"
      ]
    },
    {
      "cell_type": "code",
      "source": [
        "# helper function\n",
        "# utils.py\n",
        "import string\n",
        "import random\n",
        "import math\n",
        "import numpy as np\n",
        "import pandas as pd\n",
        "import scipy.stats as stats\n",
        "from scipy.stats import lognorm\n",
        "import ipywidgets as widgets\n",
        "from ipywidgets import interact_manual\n",
        "from dataclasses import dataclass\n",
        "\n",
        "\n",
        "def sample_size_diff_means(mu1, mu2, sigma, alpha=0.05, beta=0.20, two_sided=True):\n",
        "    delta = abs(mu2 - mu1)\n",
        "\n",
        "    if two_sided:\n",
        "        alpha = alpha / 2\n",
        "\n",
        "    n = (\n",
        "        (np.square(sigma) + np.square(sigma))\n",
        "        * np.square(stats.norm.ppf(1 - alpha) + stats.norm.ppf(1 - beta))\n",
        "    ) / np.square(delta)\n",
        "\n",
        "    return math.ceil(n)\n",
        "\n",
        "\n",
        "def sample_size_diff_proportions(p1, p2, alpha=0.05, beta=0.20, two_sided=True):\n",
        "    k = 1\n",
        "\n",
        "    q1, q2 = (1 - p1), (1 - p2)\n",
        "    p_bar = (p1 + k * p2) / (1 + k)\n",
        "    q_bar = 1 - p_bar\n",
        "    delta = abs(p2 - p1)\n",
        "\n",
        "    if two_sided:\n",
        "        alpha = alpha / 2\n",
        "\n",
        "    n = np.square(\n",
        "        np.sqrt(p_bar * q_bar * (1 + (1 / k))) * stats.norm.ppf(1 - (alpha))\n",
        "        + np.sqrt((p1 * q1) + (p2 * q2 / k)) * stats.norm.ppf(1 - beta)\n",
        "    ) / np.square(delta)\n",
        "\n",
        "    return math.ceil(n)\n",
        "\n",
        "\n",
        "def generate_user_ids(num_users):\n",
        "\n",
        "    user_ids = []\n",
        "\n",
        "    while len(user_ids) < num_users:\n",
        "        new_id = ''.join(random.choices(string.ascii_uppercase + string.digits, k=10))\n",
        "\n",
        "        if new_id not in user_ids:\n",
        "            user_ids.append(new_id)\n",
        "\n",
        "    return user_ids\n",
        "\n",
        "\n",
        "def run_ab_test_background_color(n_days):\n",
        "\n",
        "    np.random.seed(42)\n",
        "\n",
        "    daily_users = 104\n",
        "    n_control = int(daily_users*n_days*np.random.uniform(0.98, 1.02))\n",
        "    n_variation = int(daily_users*n_days*np.random.uniform(0.98, 1.02))\n",
        "    data_control = lognorm.rvs(0.5, loc=0, scale=np.exp(1)*10.5, size=n_control)\n",
        "    data_variation = lognorm.rvs(0.5, loc=0, scale=np.exp(1)*11.01, size=n_variation)\n",
        "\n",
        "    user_ids = generate_user_ids(n_control+n_variation)\n",
        "\n",
        "    control_dict = {\"user_id\": user_ids[:n_control], \"user_type\": \"control\", \"session_duration\": data_control}\n",
        "    variation_dict = {\"user_id\": user_ids[n_control:], \"user_type\": \"variation\", \"session_duration\": data_variation}\n",
        "\n",
        "    control_df = pd.DataFrame(control_dict)\n",
        "    variation_df = pd.DataFrame(variation_dict)\n",
        "\n",
        "    df_ab_test = pd.concat([control_df, variation_df])\n",
        "\n",
        "    df_ab_test = df_ab_test.sample(frac=1).reset_index(drop=True)\n",
        "\n",
        "    return df_ab_test\n",
        "\n",
        "\n",
        "\n",
        "def run_ab_test_personalized_feed(n_days):\n",
        "\n",
        "    np.random.seed(69)\n",
        "\n",
        "    daily_users = 519\n",
        "    n_control = int(daily_users*n_days*np.random.uniform(0.98, 1.02))\n",
        "    n_variation = int(daily_users*n_days*np.random.uniform(0.98, 1.02))\n",
        "    data_control = np.random.choice([0, 1], size=n_control, p=[1-0.12, 0.12])\n",
        "    data_variation = np.random.choice([0, 1], size=n_variation, p=[1-0.15, 0.15])\n",
        "\n",
        "    user_ids = generate_user_ids(n_control+n_variation)\n",
        "\n",
        "    control_dict = {\"user_id\": user_ids[:n_control], \"user_type\": \"control\", \"converted\": data_control}\n",
        "    variation_dict = {\"user_id\": user_ids[n_control:], \"user_type\": \"variation\", \"converted\": data_variation}\n",
        "\n",
        "    control_df = pd.DataFrame(control_dict)\n",
        "    variation_df = pd.DataFrame(variation_dict)\n",
        "\n",
        "    df_ab_test = pd.concat([control_df, variation_df])\n",
        "\n",
        "    df_ab_test = df_ab_test.sample(frac=1).reset_index(drop=True)\n",
        "\n",
        "    return df_ab_test\n",
        "\n",
        "\n",
        "@dataclass\n",
        "class estimation_metrics_prop:\n",
        "    n: int\n",
        "    x: int\n",
        "    p: float\n",
        "\n",
        "    def __repr__(self):\n",
        "        return f\"sample_params(n={self.n}, x={self.x}, p={self.p:.3f})\"\n",
        "\n",
        "\n",
        "def AB_test_dashboard(z_statistic_diff_proportions, reject_nh_z_statistic):\n",
        "    def _AB(n1, x1, n2, x2, alpha):\n",
        "\n",
        "        m1 = estimation_metrics_prop(n=n1, x=x1, p=x1/n1)\n",
        "        m2 = estimation_metrics_prop(n=n2, x=x2, p=x2/n2)\n",
        "        z = z_statistic_diff_proportions(m1, m2)\n",
        "        reject_nh = reject_nh_z_statistic(z, alpha=alpha)\n",
        "        print(f\"The null hypothesis can be rejected at the {alpha:.5f} level of significance: {reject_nh}\\n\")\n",
        "\n",
        "        msg = \"\" if reject_nh else \" not\"\n",
        "        print(f\"There is{msg} enough statistical evidence against H0.\\nThus it can be concluded that there is{msg} a statistically significant difference between the two proportions.\")\n",
        "\n",
        "    n1_selection = widgets.IntText(\n",
        "        value=4632,\n",
        "        description='Users A:',\n",
        "        disabled=False\n",
        "    )\n",
        "\n",
        "    n2_selection = widgets.IntText(\n",
        "        value=4728,\n",
        "        description='Users B:',\n",
        "        disabled=False\n",
        "    )\n",
        "\n",
        "    x1_selection = widgets.IntText(\n",
        "        value=576,\n",
        "        description='Conversions A:',\n",
        "        disabled=False,\n",
        "        style = {'description_width': 'initial'}\n",
        "    )\n",
        "\n",
        "    x2_selection = widgets.IntText(\n",
        "        value=718,\n",
        "        description='Conversions B:',\n",
        "        disabled=False,\n",
        "        style = {'description_width': 'initial'}\n",
        "    )\n",
        "\n",
        "    alpha_selection = widgets.FloatSlider(\n",
        "        value=0.05,\n",
        "        min=0,\n",
        "        max=1,\n",
        "        step=0.001,\n",
        "        description='Alpha:',\n",
        "        disabled=False,\n",
        "        continuous_update=False,\n",
        "        orientation='horizontal',\n",
        "        readout=True,\n",
        "        readout_format='.2f',\n",
        "    )\n",
        "\n",
        "\n",
        "    interact_manual(_AB, n1=n1_selection, x1=x1_selection, n2=n2_selection, x2=x2_selection, alpha=alpha_selection)\n",
        ""
      ],
      "metadata": {
        "id": "TbASxwS5feYK"
      },
      "execution_count": null,
      "outputs": []
    },
    {
      "cell_type": "markdown",
      "source": [
        "#t-test for sample."
      ],
      "metadata": {
        "id": "0bdXgubUVBiW"
      }
    },
    {
      "cell_type": "markdown",
      "source": [
        "control: These users will keep seeing your original website.\n",
        "\n",
        "variation: These users will see your website with the new background colors."
      ],
      "metadata": {
        "id": "IsuZ2SKiLJ_g"
      }
    },
    {
      "cell_type": "code",
      "source": [
        "# Load the data from the test\n",
        "data = utils.run_ab_test_background_color(n_days=20)\n",
        "# Print the first 10 rows\n",
        "data.head(10)"
      ],
      "metadata": {
        "colab": {
          "base_uri": "https://localhost:8080/",
          "height": 363
        },
        "id": "fpj4UuGRntxQ",
        "outputId": "cc95ab82-1183-4054-e700-ce884a40f7e6"
      },
      "execution_count": 2,
      "outputs": [
        {
          "output_type": "execute_result",
          "data": {
            "text/plain": [
              "      user_id  user_type  session_duration\n",
              "0  MBS5RNS2GD  variation         15.528769\n",
              "1  1AIXWVUWY4  variation         32.287590\n",
              "2  VCQJDKZGCV  variation         43.718217\n",
              "3  0L8AUWHGY0  variation         49.519702\n",
              "4  37YX7FCWNC    control         61.709028\n",
              "5  1SVMF78GBJ  variation         71.779283\n",
              "6  SUTKBW4MEQ  variation         23.291835\n",
              "7  YRZBXYLGH8    control         25.219461\n",
              "8  C5C87A1CLU    control         26.240482\n",
              "9  B90YKZS6AR  variation         20.780244"
            ],
            "text/html": [
              "\n",
              "  <div id=\"df-74b5f451-2536-4d76-a78a-b631281874b9\" class=\"colab-df-container\">\n",
              "    <div>\n",
              "<style scoped>\n",
              "    .dataframe tbody tr th:only-of-type {\n",
              "        vertical-align: middle;\n",
              "    }\n",
              "\n",
              "    .dataframe tbody tr th {\n",
              "        vertical-align: top;\n",
              "    }\n",
              "\n",
              "    .dataframe thead th {\n",
              "        text-align: right;\n",
              "    }\n",
              "</style>\n",
              "<table border=\"1\" class=\"dataframe\">\n",
              "  <thead>\n",
              "    <tr style=\"text-align: right;\">\n",
              "      <th></th>\n",
              "      <th>user_id</th>\n",
              "      <th>user_type</th>\n",
              "      <th>session_duration</th>\n",
              "    </tr>\n",
              "  </thead>\n",
              "  <tbody>\n",
              "    <tr>\n",
              "      <th>0</th>\n",
              "      <td>MBS5RNS2GD</td>\n",
              "      <td>variation</td>\n",
              "      <td>15.528769</td>\n",
              "    </tr>\n",
              "    <tr>\n",
              "      <th>1</th>\n",
              "      <td>1AIXWVUWY4</td>\n",
              "      <td>variation</td>\n",
              "      <td>32.287590</td>\n",
              "    </tr>\n",
              "    <tr>\n",
              "      <th>2</th>\n",
              "      <td>VCQJDKZGCV</td>\n",
              "      <td>variation</td>\n",
              "      <td>43.718217</td>\n",
              "    </tr>\n",
              "    <tr>\n",
              "      <th>3</th>\n",
              "      <td>0L8AUWHGY0</td>\n",
              "      <td>variation</td>\n",
              "      <td>49.519702</td>\n",
              "    </tr>\n",
              "    <tr>\n",
              "      <th>4</th>\n",
              "      <td>37YX7FCWNC</td>\n",
              "      <td>control</td>\n",
              "      <td>61.709028</td>\n",
              "    </tr>\n",
              "    <tr>\n",
              "      <th>5</th>\n",
              "      <td>1SVMF78GBJ</td>\n",
              "      <td>variation</td>\n",
              "      <td>71.779283</td>\n",
              "    </tr>\n",
              "    <tr>\n",
              "      <th>6</th>\n",
              "      <td>SUTKBW4MEQ</td>\n",
              "      <td>variation</td>\n",
              "      <td>23.291835</td>\n",
              "    </tr>\n",
              "    <tr>\n",
              "      <th>7</th>\n",
              "      <td>YRZBXYLGH8</td>\n",
              "      <td>control</td>\n",
              "      <td>25.219461</td>\n",
              "    </tr>\n",
              "    <tr>\n",
              "      <th>8</th>\n",
              "      <td>C5C87A1CLU</td>\n",
              "      <td>control</td>\n",
              "      <td>26.240482</td>\n",
              "    </tr>\n",
              "    <tr>\n",
              "      <th>9</th>\n",
              "      <td>B90YKZS6AR</td>\n",
              "      <td>variation</td>\n",
              "      <td>20.780244</td>\n",
              "    </tr>\n",
              "  </tbody>\n",
              "</table>\n",
              "</div>\n",
              "    <div class=\"colab-df-buttons\">\n",
              "\n",
              "  <div class=\"colab-df-container\">\n",
              "    <button class=\"colab-df-convert\" onclick=\"convertToInteractive('df-74b5f451-2536-4d76-a78a-b631281874b9')\"\n",
              "            title=\"Convert this dataframe to an interactive table.\"\n",
              "            style=\"display:none;\">\n",
              "\n",
              "  <svg xmlns=\"http://www.w3.org/2000/svg\" height=\"24px\" viewBox=\"0 -960 960 960\">\n",
              "    <path d=\"M120-120v-720h720v720H120Zm60-500h600v-160H180v160Zm220 220h160v-160H400v160Zm0 220h160v-160H400v160ZM180-400h160v-160H180v160Zm440 0h160v-160H620v160ZM180-180h160v-160H180v160Zm440 0h160v-160H620v160Z\"/>\n",
              "  </svg>\n",
              "    </button>\n",
              "\n",
              "  <style>\n",
              "    .colab-df-container {\n",
              "      display:flex;\n",
              "      gap: 12px;\n",
              "    }\n",
              "\n",
              "    .colab-df-convert {\n",
              "      background-color: #E8F0FE;\n",
              "      border: none;\n",
              "      border-radius: 50%;\n",
              "      cursor: pointer;\n",
              "      display: none;\n",
              "      fill: #1967D2;\n",
              "      height: 32px;\n",
              "      padding: 0 0 0 0;\n",
              "      width: 32px;\n",
              "    }\n",
              "\n",
              "    .colab-df-convert:hover {\n",
              "      background-color: #E2EBFA;\n",
              "      box-shadow: 0px 1px 2px rgba(60, 64, 67, 0.3), 0px 1px 3px 1px rgba(60, 64, 67, 0.15);\n",
              "      fill: #174EA6;\n",
              "    }\n",
              "\n",
              "    .colab-df-buttons div {\n",
              "      margin-bottom: 4px;\n",
              "    }\n",
              "\n",
              "    [theme=dark] .colab-df-convert {\n",
              "      background-color: #3B4455;\n",
              "      fill: #D2E3FC;\n",
              "    }\n",
              "\n",
              "    [theme=dark] .colab-df-convert:hover {\n",
              "      background-color: #434B5C;\n",
              "      box-shadow: 0px 1px 3px 1px rgba(0, 0, 0, 0.15);\n",
              "      filter: drop-shadow(0px 1px 2px rgba(0, 0, 0, 0.3));\n",
              "      fill: #FFFFFF;\n",
              "    }\n",
              "  </style>\n",
              "\n",
              "    <script>\n",
              "      const buttonEl =\n",
              "        document.querySelector('#df-74b5f451-2536-4d76-a78a-b631281874b9 button.colab-df-convert');\n",
              "      buttonEl.style.display =\n",
              "        google.colab.kernel.accessAllowed ? 'block' : 'none';\n",
              "\n",
              "      async function convertToInteractive(key) {\n",
              "        const element = document.querySelector('#df-74b5f451-2536-4d76-a78a-b631281874b9');\n",
              "        const dataTable =\n",
              "          await google.colab.kernel.invokeFunction('convertToInteractive',\n",
              "                                                    [key], {});\n",
              "        if (!dataTable) return;\n",
              "\n",
              "        const docLinkHtml = 'Like what you see? Visit the ' +\n",
              "          '<a target=\"_blank\" href=https://colab.research.google.com/notebooks/data_table.ipynb>data table notebook</a>'\n",
              "          + ' to learn more about interactive tables.';\n",
              "        element.innerHTML = '';\n",
              "        dataTable['output_type'] = 'display_data';\n",
              "        await google.colab.output.renderOutput(dataTable, element);\n",
              "        const docLink = document.createElement('div');\n",
              "        docLink.innerHTML = docLinkHtml;\n",
              "        element.appendChild(docLink);\n",
              "      }\n",
              "    </script>\n",
              "  </div>\n",
              "\n",
              "\n",
              "<div id=\"df-473583c6-6ade-4fa6-9492-7f5b074b1484\">\n",
              "  <button class=\"colab-df-quickchart\" onclick=\"quickchart('df-473583c6-6ade-4fa6-9492-7f5b074b1484')\"\n",
              "            title=\"Suggest charts.\"\n",
              "            style=\"display:none;\">\n",
              "\n",
              "<svg xmlns=\"http://www.w3.org/2000/svg\" height=\"24px\"viewBox=\"0 0 24 24\"\n",
              "     width=\"24px\">\n",
              "    <g>\n",
              "        <path d=\"M19 3H5c-1.1 0-2 .9-2 2v14c0 1.1.9 2 2 2h14c1.1 0 2-.9 2-2V5c0-1.1-.9-2-2-2zM9 17H7v-7h2v7zm4 0h-2V7h2v10zm4 0h-2v-4h2v4z\"/>\n",
              "    </g>\n",
              "</svg>\n",
              "  </button>\n",
              "\n",
              "<style>\n",
              "  .colab-df-quickchart {\n",
              "      --bg-color: #E8F0FE;\n",
              "      --fill-color: #1967D2;\n",
              "      --hover-bg-color: #E2EBFA;\n",
              "      --hover-fill-color: #174EA6;\n",
              "      --disabled-fill-color: #AAA;\n",
              "      --disabled-bg-color: #DDD;\n",
              "  }\n",
              "\n",
              "  [theme=dark] .colab-df-quickchart {\n",
              "      --bg-color: #3B4455;\n",
              "      --fill-color: #D2E3FC;\n",
              "      --hover-bg-color: #434B5C;\n",
              "      --hover-fill-color: #FFFFFF;\n",
              "      --disabled-bg-color: #3B4455;\n",
              "      --disabled-fill-color: #666;\n",
              "  }\n",
              "\n",
              "  .colab-df-quickchart {\n",
              "    background-color: var(--bg-color);\n",
              "    border: none;\n",
              "    border-radius: 50%;\n",
              "    cursor: pointer;\n",
              "    display: none;\n",
              "    fill: var(--fill-color);\n",
              "    height: 32px;\n",
              "    padding: 0;\n",
              "    width: 32px;\n",
              "  }\n",
              "\n",
              "  .colab-df-quickchart:hover {\n",
              "    background-color: var(--hover-bg-color);\n",
              "    box-shadow: 0 1px 2px rgba(60, 64, 67, 0.3), 0 1px 3px 1px rgba(60, 64, 67, 0.15);\n",
              "    fill: var(--button-hover-fill-color);\n",
              "  }\n",
              "\n",
              "  .colab-df-quickchart-complete:disabled,\n",
              "  .colab-df-quickchart-complete:disabled:hover {\n",
              "    background-color: var(--disabled-bg-color);\n",
              "    fill: var(--disabled-fill-color);\n",
              "    box-shadow: none;\n",
              "  }\n",
              "\n",
              "  .colab-df-spinner {\n",
              "    border: 2px solid var(--fill-color);\n",
              "    border-color: transparent;\n",
              "    border-bottom-color: var(--fill-color);\n",
              "    animation:\n",
              "      spin 1s steps(1) infinite;\n",
              "  }\n",
              "\n",
              "  @keyframes spin {\n",
              "    0% {\n",
              "      border-color: transparent;\n",
              "      border-bottom-color: var(--fill-color);\n",
              "      border-left-color: var(--fill-color);\n",
              "    }\n",
              "    20% {\n",
              "      border-color: transparent;\n",
              "      border-left-color: var(--fill-color);\n",
              "      border-top-color: var(--fill-color);\n",
              "    }\n",
              "    30% {\n",
              "      border-color: transparent;\n",
              "      border-left-color: var(--fill-color);\n",
              "      border-top-color: var(--fill-color);\n",
              "      border-right-color: var(--fill-color);\n",
              "    }\n",
              "    40% {\n",
              "      border-color: transparent;\n",
              "      border-right-color: var(--fill-color);\n",
              "      border-top-color: var(--fill-color);\n",
              "    }\n",
              "    60% {\n",
              "      border-color: transparent;\n",
              "      border-right-color: var(--fill-color);\n",
              "    }\n",
              "    80% {\n",
              "      border-color: transparent;\n",
              "      border-right-color: var(--fill-color);\n",
              "      border-bottom-color: var(--fill-color);\n",
              "    }\n",
              "    90% {\n",
              "      border-color: transparent;\n",
              "      border-bottom-color: var(--fill-color);\n",
              "    }\n",
              "  }\n",
              "</style>\n",
              "\n",
              "  <script>\n",
              "    async function quickchart(key) {\n",
              "      const quickchartButtonEl =\n",
              "        document.querySelector('#' + key + ' button');\n",
              "      quickchartButtonEl.disabled = true;  // To prevent multiple clicks.\n",
              "      quickchartButtonEl.classList.add('colab-df-spinner');\n",
              "      try {\n",
              "        const charts = await google.colab.kernel.invokeFunction(\n",
              "            'suggestCharts', [key], {});\n",
              "      } catch (error) {\n",
              "        console.error('Error during call to suggestCharts:', error);\n",
              "      }\n",
              "      quickchartButtonEl.classList.remove('colab-df-spinner');\n",
              "      quickchartButtonEl.classList.add('colab-df-quickchart-complete');\n",
              "    }\n",
              "    (() => {\n",
              "      let quickchartButtonEl =\n",
              "        document.querySelector('#df-473583c6-6ade-4fa6-9492-7f5b074b1484 button');\n",
              "      quickchartButtonEl.style.display =\n",
              "        google.colab.kernel.accessAllowed ? 'block' : 'none';\n",
              "    })();\n",
              "  </script>\n",
              "</div>\n",
              "    </div>\n",
              "  </div>\n"
            ]
          },
          "metadata": {},
          "execution_count": 2
        }
      ]
    },
    {
      "cell_type": "code",
      "source": [
        "# Separate the data from the two groups (sd stands for session duration)\n",
        "control_sd_data = data[data[\"user_type\"]==\"control\"][\"session_duration\"]\n",
        "variation_sd_data = data[data[\"user_type\"]==\"variation\"][\"session_duration\"]\n",
        "\n",
        "print(f\"{len(control_sd_data)} users saw the original website with an average duration of {control_sd_data.mean():.2f} minutes\\n\")\n",
        "print(f\"{len(variation_sd_data)} users saw the new website with an average duration of {variation_sd_data.mean():.2f} minutes\")"
      ],
      "metadata": {
        "colab": {
          "base_uri": "https://localhost:8080/"
        },
        "id": "K0BDV72znt1D",
        "outputId": "f9b13f56-b696-4ded-c632-991fc3d4b2c8"
      },
      "execution_count": 3,
      "outputs": [
        {
          "output_type": "stream",
          "name": "stdout",
          "text": [
            "2069 users saw the original website with an average duration of 32.92 minutes\n",
            "\n",
            "2117 users saw the new website with an average duration of 33.83 minutes\n"
          ]
        }
      ]
    },
    {
      "cell_type": "markdown",
      "source": [
        "$$t = \\frac{(\\bar{x}_{1} - \\bar{x}_{2}) - (\\mu_1 - \\mu_2)}{\\sqrt{\\frac{s_{1}^2}{n_1} + \\frac{s_{2}^2}{n_2}}}$$"
      ],
      "metadata": {
        "id": "AnNP2GfGNXIh"
      }
    },
    {
      "cell_type": "code",
      "source": [
        "@dataclass\n",
        "class  estimation_metrics_cont:\n",
        "  n: int\n",
        "  xbar: float\n",
        "  s: float\n",
        "\n",
        "  def __repr__(self):\n",
        "    return f\"sample_params(n={self.n}, xbar={self.xbar:.3f}, s={self.s:.3f})\""
      ],
      "metadata": {
        "id": "F9G92dsKNELn"
      },
      "execution_count": 4,
      "outputs": []
    },
    {
      "cell_type": "code",
      "source": [
        "def compute_continuous_metrics(data):\n",
        "    \"\"\"Computes the relevant metrics out of a sample for continuous data.\n",
        "\n",
        "    Args:\n",
        "        data (pandas.core.series.Series): The sample data. In this case the average session duration for each user.\n",
        "\n",
        "    Returns:\n",
        "        estimation_metrics_cont: The metrics saved in a dataclass instance.\n",
        "    \"\"\"\n",
        "    metrics = estimation_metrics_cont(\n",
        "        n = len(data),\n",
        "        xbar = np.mean(data),\n",
        "        s = np.std(data,ddof=1)\n",
        "    )\n",
        "    return metrics"
      ],
      "metadata": {
        "id": "KrlJfYLAnt4A"
      },
      "execution_count": 7,
      "outputs": []
    },
    {
      "cell_type": "code",
      "source": [
        "# Test your code\n",
        "\n",
        "cm = compute_continuous_metrics(np.array([1,2,3,4,5]))\n",
        "print(f\"n={cm.n}, xbar={cm.xbar:.2f} and s={cm.s:.2f} for example array\\n\")\n",
        "\n",
        "control_metrics = compute_continuous_metrics(control_sd_data)\n",
        "print(f\"n={control_metrics.n}, xbar={control_metrics.xbar:.2f} and s={control_metrics.s:.2f} for control data\\n\")\n",
        "\n",
        "variation_metrics = compute_continuous_metrics(variation_sd_data)\n",
        "print(f\"n={variation_metrics.n}, xbar={variation_metrics.xbar:.2f} and s={variation_metrics.s:.2f} for variation data\")"
      ],
      "metadata": {
        "colab": {
          "base_uri": "https://localhost:8080/"
        },
        "id": "e5CsR8Z_nt8f",
        "outputId": "7e23d0db-41f5-41c7-80de-049ea8e078f5"
      },
      "execution_count": 8,
      "outputs": [
        {
          "output_type": "stream",
          "name": "stdout",
          "text": [
            "n=5, xbar=3.00 and s=1.58 for example array\n",
            "\n",
            "n=2069, xbar=32.92 and s=17.54 for control data\n",
            "\n",
            "n=2117, xbar=33.83 and s=18.24 for variation data\n"
          ]
        }
      ]
    },
    {
      "cell_type": "markdown",
      "source": [
        "$$\\text{Degrees of freedom } = \\frac{\\left[\\frac{s_{1}^2}{n_1} + \\frac{s_{2}^2}{n_2} \\right]^2}{\\frac{(s_{1}^2/n_1)^2}{n_1-1} + \\frac{(s_{2}^2/n_2)^2}{n_2-1}}$$"
      ],
      "metadata": {
        "id": "Ofx8ASbdO_NT"
      }
    },
    {
      "cell_type": "code",
      "source": [
        "def degrees_of_freedom(control_metrics, variation_metrics):\n",
        "    \"\"\"Computes the degrees of freedom for two samples.\n",
        "\n",
        "    Args:\n",
        "        control_metrics (estimation_metrics_cont): The metrics for the control sample.\n",
        "        variation_metrics (estimation_metrics_cont): The metrics for the variation sample.\n",
        "\n",
        "    Returns:\n",
        "        numpy.float: The degrees of freedom.\n",
        "    \"\"\"\n",
        "    n1,s1 = control_metrics.n,control_metrics.s\n",
        "    n2,s2 = variation_metrics.n,variation_metrics.s\n",
        "\n",
        "    dof = np.square((s1**2 / n1 + s2**2 / n2)) / ((s1**2 / n1)**2 / (n1 - 1) + (s2**2 / n2)**2 / (n2 - 1))\n",
        "\n",
        "    return dof\n"
      ],
      "metadata": {
        "id": "2fBZTFz5nuEi"
      },
      "execution_count": 13,
      "outputs": []
    },
    {
      "cell_type": "code",
      "source": [
        "# Test your code\n",
        "test_m1, test_m2 = compute_continuous_metrics(np.array([1,2,3])), compute_continuous_metrics(np.array([4,5]))\n",
        "dof = degrees_of_freedom(test_m1, test_m2)\n",
        "print(f\"DoF for example arrays: {dof:.2f}\\n\")\n",
        "\n",
        "dof = degrees_of_freedom(control_metrics, variation_metrics)\n",
        "print(f\"DoF for AB test samples: {dof:.2f}\")"
      ],
      "metadata": {
        "colab": {
          "base_uri": "https://localhost:8080/"
        },
        "id": "2fqcrEudO1Gi",
        "outputId": "a22ca362-0ad0-4f02-8094-7705c7882605"
      },
      "execution_count": 14,
      "outputs": [
        {
          "output_type": "stream",
          "name": "stdout",
          "text": [
            "DoF for example arrays: 2.88\n",
            "\n",
            "DoF for AB test samples: 4182.97\n"
          ]
        }
      ]
    },
    {
      "cell_type": "code",
      "source": [
        "def t_statistic_diff_means(control_metrics, variation_metrics):\n",
        "    \"\"\"Compute the t-statistic for the difference of two means.\n",
        "\n",
        "    Args:\n",
        "        control_metrics (estimation_metrics_cont): The metrics for the control sample.\n",
        "        variation_metrics (estimation_metrics_cont): The metrics for the variation sample.\n",
        "\n",
        "    Returns:\n",
        "        numpy.float: The value of the t-statistic.\n",
        "    \"\"\"\n",
        "    n1,xbar1,s1 = control_metrics.n,control_metrics.xbar,control_metrics.s\n",
        "    n2,xbar2,s2 = variation_metrics.n,variation_metrics.xbar,variation_metrics.s\n",
        "\n",
        "    t = (xbar1 - xbar2) / np.sqrt((s1 ** 2) / n1 + (s2 ** 2) / n2)\n",
        "    return t"
      ],
      "metadata": {
        "id": "ei3gqsoPO1Jy"
      },
      "execution_count": 18,
      "outputs": []
    },
    {
      "cell_type": "code",
      "source": [
        "t = t_statistic_diff_means(test_m1, test_m2)\n",
        "print(f\"t statistic for example arrays: {t:.2f}\\n\")\n",
        "\n",
        "t = t_statistic_diff_means(control_metrics, variation_metrics)\n",
        "print(f\"t statistic for AB test: {t:.2f}\")"
      ],
      "metadata": {
        "colab": {
          "base_uri": "https://localhost:8080/"
        },
        "id": "3mdQ-Nn-O1Mh",
        "outputId": "287e6326-bccf-4e6f-d550-1fccfb128b55"
      },
      "execution_count": 19,
      "outputs": [
        {
          "output_type": "stream",
          "name": "stdout",
          "text": [
            "t statistic for example arrays: -3.27\n",
            "\n",
            "t statistic for AB test: -1.64\n"
          ]
        }
      ]
    },
    {
      "cell_type": "code",
      "source": [
        "def reject_nh_t_statistic(t_statistic, dof, alpha=0.05):\n",
        "    \"\"\"Decide whether to reject (or not) the null hypothesis of the t-test.\n",
        "\n",
        "    Args:\n",
        "        t_statistic (numpy.float): The computed value of the t-statistic for the two samples.\n",
        "        dof (numpy.float): The computed degrees of freedom for the two samples.\n",
        "        alpha (float, optional): The desired level of significancy. Defaults to 0.05.\n",
        "\n",
        "    Returns:\n",
        "        bool: True if the null hypothesis should be rejected. False otherwise.\n",
        "    \"\"\"\n",
        "    reject = False\n",
        "    p_value = 2 * (1 - stats.t.cdf(abs(t),df=dof))\n",
        "\n",
        "    if p_value < alpha:\n",
        "      reject = True\n",
        "\n",
        "    return reject\n"
      ],
      "metadata": {
        "id": "IUU4Li96O1P4"
      },
      "execution_count": 20,
      "outputs": []
    },
    {
      "cell_type": "code",
      "source": [
        "# Test your code\n",
        "\n",
        "alpha = 0.05\n",
        "reject_nh = reject_nh_t_statistic(t, dof, alpha)\n",
        "\n",
        "print(f\"The null hypothesis can be rejected at the {alpha} level of significance: {reject_nh}\\n\")\n",
        "\n",
        "msg = \"\" if reject_nh else \" not\"\n",
        "print(f\"There is{msg} enough statistical evidence against H0.\\nIt can be concluded that there is{msg} a statistically significant difference between the means of the two samples.\")"
      ],
      "metadata": {
        "colab": {
          "base_uri": "https://localhost:8080/"
        },
        "id": "7SJw_bU2O1TA",
        "outputId": "95f80324-7a8d-467e-8423-fc9dd70ef564"
      },
      "execution_count": 21,
      "outputs": [
        {
          "output_type": "stream",
          "name": "stdout",
          "text": [
            "The null hypothesis can be rejected at the 0.05 level of significance: False\n",
            "\n",
            "There is not enough statistical evidence against H0.\n",
            "It can be concluded that there is not a statistically significant difference between the means of the two samples.\n"
          ]
        }
      ]
    },
    {
      "cell_type": "markdown",
      "source": [
        "#z-test for proportion"
      ],
      "metadata": {
        "id": "1W9YbblHVMkm"
      }
    },
    {
      "cell_type": "markdown",
      "source": [
        "Sample Size Needed to Compare Two Binomial Proportions Using a Two-Sided Test with Significance Level $\\alpha$ and Power $1 - \\beta$ Where One Sample $(n_2)$ is $k$ times as Large as the Other Sample $(n_1)$ (Independent-Sample Case)\n",
        "\n",
        "To test the hypothesis $H_0:p_1 = p_2$ vs. $H_1: p_1 \\neq p_2$ for the specific alternative $\\mid p_1 - p_2 \\mid = \\Delta$, with significance level $\\alpha$ and power $1 - \\beta$, for the following sample size is required\n",
        "\n",
        "$$n_1 = \\frac{\\left[\\sqrt{\\bar{p}\\bar{q}\\left(1 + \\frac{1}{k} \\right)}z_{1- \\alpha/2} + \\sqrt{p_1 q_1 + \\frac{p_2q_2}{k}}z_{1-\\beta}\\right]^2}{\\Delta^2}$$\n",
        "$$n_2 = k n_1$$\n",
        "where $p_1,p_2 = $ projected true probabilities of success in the two groups\n",
        "$$q_1,q_2 = 1 - p_1, 1 - p_2$$\n",
        "$$\\Delta  = \\mid p_2 - p_1 \\mid$$\n",
        "$$\\overline{p} = \\frac{p_1 + kp_2}{1+ k}$$"
      ],
      "metadata": {
        "id": "cPBM6mwIVxVL"
      }
    },
    {
      "cell_type": "code",
      "source": [
        "# Compute the sample size required to compare the actual vs desired CVR\n",
        "required_sample_size = utils.sample_size_diff_proportions(0.12, 0.14)\n",
        "required_sample_size"
      ],
      "metadata": {
        "colab": {
          "base_uri": "https://localhost:8080/"
        },
        "id": "XZe6WPFQO1jC",
        "outputId": "60476786-9a72-434c-e0a6-c1c9d6e6c223"
      },
      "execution_count": 22,
      "outputs": [
        {
          "output_type": "execute_result",
          "data": {
            "text/plain": [
              "4438"
            ]
          },
          "metadata": {},
          "execution_count": 22
        }
      ]
    },
    {
      "cell_type": "markdown",
      "source": [
        "![power-calculation-2.png](data:image/png;base64,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)"
      ],
      "metadata": {
        "id": "tRGwqUe5fPt4"
      }
    },
    {
      "cell_type": "code",
      "source": [
        "daily_active_users = 1038\n",
        "n_days = math.ceil((required_sample_size*2)/daily_active_users)\n",
        "print(f\"AB test should run for {n_days} days to gather enough data\")"
      ],
      "metadata": {
        "colab": {
          "base_uri": "https://localhost:8080/"
        },
        "id": "jF3mfAKqO1nW",
        "outputId": "f926cfb2-31b1-454b-e39e-4209b2445f25"
      },
      "execution_count": 23,
      "outputs": [
        {
          "output_type": "stream",
          "name": "stdout",
          "text": [
            "AB test should run for 9 days to gather enough data\n"
          ]
        }
      ]
    },
    {
      "cell_type": "code",
      "source": [
        "data = utils.run_ab_test_personalized_feed(n_days)\n",
        "data.head(5)"
      ],
      "metadata": {
        "colab": {
          "base_uri": "https://localhost:8080/",
          "height": 206
        },
        "id": "yX2ku4o6O11-",
        "outputId": "163c9fa3-4b0c-4e46-83c1-1e90a01ba88a"
      },
      "execution_count": 24,
      "outputs": [
        {
          "output_type": "execute_result",
          "data": {
            "text/plain": [
              "      user_id  user_type  converted\n",
              "0  RVNGUT5X3G  variation          0\n",
              "1  G7BKYFO1RR    control          1\n",
              "2  BSFGHADUH0  variation          0\n",
              "3  LTABKWUVBW    control          0\n",
              "4  AYSIVRRMOR    control          0"
            ],
            "text/html": [
              "\n",
              "  <div id=\"df-c4f60a49-b6a3-40ea-b329-053d1cb77ee7\" class=\"colab-df-container\">\n",
              "    <div>\n",
              "<style scoped>\n",
              "    .dataframe tbody tr th:only-of-type {\n",
              "        vertical-align: middle;\n",
              "    }\n",
              "\n",
              "    .dataframe tbody tr th {\n",
              "        vertical-align: top;\n",
              "    }\n",
              "\n",
              "    .dataframe thead th {\n",
              "        text-align: right;\n",
              "    }\n",
              "</style>\n",
              "<table border=\"1\" class=\"dataframe\">\n",
              "  <thead>\n",
              "    <tr style=\"text-align: right;\">\n",
              "      <th></th>\n",
              "      <th>user_id</th>\n",
              "      <th>user_type</th>\n",
              "      <th>converted</th>\n",
              "    </tr>\n",
              "  </thead>\n",
              "  <tbody>\n",
              "    <tr>\n",
              "      <th>0</th>\n",
              "      <td>RVNGUT5X3G</td>\n",
              "      <td>variation</td>\n",
              "      <td>0</td>\n",
              "    </tr>\n",
              "    <tr>\n",
              "      <th>1</th>\n",
              "      <td>G7BKYFO1RR</td>\n",
              "      <td>control</td>\n",
              "      <td>1</td>\n",
              "    </tr>\n",
              "    <tr>\n",
              "      <th>2</th>\n",
              "      <td>BSFGHADUH0</td>\n",
              "      <td>variation</td>\n",
              "      <td>0</td>\n",
              "    </tr>\n",
              "    <tr>\n",
              "      <th>3</th>\n",
              "      <td>LTABKWUVBW</td>\n",
              "      <td>control</td>\n",
              "      <td>0</td>\n",
              "    </tr>\n",
              "    <tr>\n",
              "      <th>4</th>\n",
              "      <td>AYSIVRRMOR</td>\n",
              "      <td>control</td>\n",
              "      <td>0</td>\n",
              "    </tr>\n",
              "  </tbody>\n",
              "</table>\n",
              "</div>\n",
              "    <div class=\"colab-df-buttons\">\n",
              "\n",
              "  <div class=\"colab-df-container\">\n",
              "    <button class=\"colab-df-convert\" onclick=\"convertToInteractive('df-c4f60a49-b6a3-40ea-b329-053d1cb77ee7')\"\n",
              "            title=\"Convert this dataframe to an interactive table.\"\n",
              "            style=\"display:none;\">\n",
              "\n",
              "  <svg xmlns=\"http://www.w3.org/2000/svg\" height=\"24px\" viewBox=\"0 -960 960 960\">\n",
              "    <path d=\"M120-120v-720h720v720H120Zm60-500h600v-160H180v160Zm220 220h160v-160H400v160Zm0 220h160v-160H400v160ZM180-400h160v-160H180v160Zm440 0h160v-160H620v160ZM180-180h160v-160H180v160Zm440 0h160v-160H620v160Z\"/>\n",
              "  </svg>\n",
              "    </button>\n",
              "\n",
              "  <style>\n",
              "    .colab-df-container {\n",
              "      display:flex;\n",
              "      gap: 12px;\n",
              "    }\n",
              "\n",
              "    .colab-df-convert {\n",
              "      background-color: #E8F0FE;\n",
              "      border: none;\n",
              "      border-radius: 50%;\n",
              "      cursor: pointer;\n",
              "      display: none;\n",
              "      fill: #1967D2;\n",
              "      height: 32px;\n",
              "      padding: 0 0 0 0;\n",
              "      width: 32px;\n",
              "    }\n",
              "\n",
              "    .colab-df-convert:hover {\n",
              "      background-color: #E2EBFA;\n",
              "      box-shadow: 0px 1px 2px rgba(60, 64, 67, 0.3), 0px 1px 3px 1px rgba(60, 64, 67, 0.15);\n",
              "      fill: #174EA6;\n",
              "    }\n",
              "\n",
              "    .colab-df-buttons div {\n",
              "      margin-bottom: 4px;\n",
              "    }\n",
              "\n",
              "    [theme=dark] .colab-df-convert {\n",
              "      background-color: #3B4455;\n",
              "      fill: #D2E3FC;\n",
              "    }\n",
              "\n",
              "    [theme=dark] .colab-df-convert:hover {\n",
              "      background-color: #434B5C;\n",
              "      box-shadow: 0px 1px 3px 1px rgba(0, 0, 0, 0.15);\n",
              "      filter: drop-shadow(0px 1px 2px rgba(0, 0, 0, 0.3));\n",
              "      fill: #FFFFFF;\n",
              "    }\n",
              "  </style>\n",
              "\n",
              "    <script>\n",
              "      const buttonEl =\n",
              "        document.querySelector('#df-c4f60a49-b6a3-40ea-b329-053d1cb77ee7 button.colab-df-convert');\n",
              "      buttonEl.style.display =\n",
              "        google.colab.kernel.accessAllowed ? 'block' : 'none';\n",
              "\n",
              "      async function convertToInteractive(key) {\n",
              "        const element = document.querySelector('#df-c4f60a49-b6a3-40ea-b329-053d1cb77ee7');\n",
              "        const dataTable =\n",
              "          await google.colab.kernel.invokeFunction('convertToInteractive',\n",
              "                                                    [key], {});\n",
              "        if (!dataTable) return;\n",
              "\n",
              "        const docLinkHtml = 'Like what you see? Visit the ' +\n",
              "          '<a target=\"_blank\" href=https://colab.research.google.com/notebooks/data_table.ipynb>data table notebook</a>'\n",
              "          + ' to learn more about interactive tables.';\n",
              "        element.innerHTML = '';\n",
              "        dataTable['output_type'] = 'display_data';\n",
              "        await google.colab.output.renderOutput(dataTable, element);\n",
              "        const docLink = document.createElement('div');\n",
              "        docLink.innerHTML = docLinkHtml;\n",
              "        element.appendChild(docLink);\n",
              "      }\n",
              "    </script>\n",
              "  </div>\n",
              "\n",
              "\n",
              "<div id=\"df-842c6262-a167-4f0c-b73d-1dd15d817793\">\n",
              "  <button class=\"colab-df-quickchart\" onclick=\"quickchart('df-842c6262-a167-4f0c-b73d-1dd15d817793')\"\n",
              "            title=\"Suggest charts.\"\n",
              "            style=\"display:none;\">\n",
              "\n",
              "<svg xmlns=\"http://www.w3.org/2000/svg\" height=\"24px\"viewBox=\"0 0 24 24\"\n",
              "     width=\"24px\">\n",
              "    <g>\n",
              "        <path d=\"M19 3H5c-1.1 0-2 .9-2 2v14c0 1.1.9 2 2 2h14c1.1 0 2-.9 2-2V5c0-1.1-.9-2-2-2zM9 17H7v-7h2v7zm4 0h-2V7h2v10zm4 0h-2v-4h2v4z\"/>\n",
              "    </g>\n",
              "</svg>\n",
              "  </button>\n",
              "\n",
              "<style>\n",
              "  .colab-df-quickchart {\n",
              "      --bg-color: #E8F0FE;\n",
              "      --fill-color: #1967D2;\n",
              "      --hover-bg-color: #E2EBFA;\n",
              "      --hover-fill-color: #174EA6;\n",
              "      --disabled-fill-color: #AAA;\n",
              "      --disabled-bg-color: #DDD;\n",
              "  }\n",
              "\n",
              "  [theme=dark] .colab-df-quickchart {\n",
              "      --bg-color: #3B4455;\n",
              "      --fill-color: #D2E3FC;\n",
              "      --hover-bg-color: #434B5C;\n",
              "      --hover-fill-color: #FFFFFF;\n",
              "      --disabled-bg-color: #3B4455;\n",
              "      --disabled-fill-color: #666;\n",
              "  }\n",
              "\n",
              "  .colab-df-quickchart {\n",
              "    background-color: var(--bg-color);\n",
              "    border: none;\n",
              "    border-radius: 50%;\n",
              "    cursor: pointer;\n",
              "    display: none;\n",
              "    fill: var(--fill-color);\n",
              "    height: 32px;\n",
              "    padding: 0;\n",
              "    width: 32px;\n",
              "  }\n",
              "\n",
              "  .colab-df-quickchart:hover {\n",
              "    background-color: var(--hover-bg-color);\n",
              "    box-shadow: 0 1px 2px rgba(60, 64, 67, 0.3), 0 1px 3px 1px rgba(60, 64, 67, 0.15);\n",
              "    fill: var(--button-hover-fill-color);\n",
              "  }\n",
              "\n",
              "  .colab-df-quickchart-complete:disabled,\n",
              "  .colab-df-quickchart-complete:disabled:hover {\n",
              "    background-color: var(--disabled-bg-color);\n",
              "    fill: var(--disabled-fill-color);\n",
              "    box-shadow: none;\n",
              "  }\n",
              "\n",
              "  .colab-df-spinner {\n",
              "    border: 2px solid var(--fill-color);\n",
              "    border-color: transparent;\n",
              "    border-bottom-color: var(--fill-color);\n",
              "    animation:\n",
              "      spin 1s steps(1) infinite;\n",
              "  }\n",
              "\n",
              "  @keyframes spin {\n",
              "    0% {\n",
              "      border-color: transparent;\n",
              "      border-bottom-color: var(--fill-color);\n",
              "      border-left-color: var(--fill-color);\n",
              "    }\n",
              "    20% {\n",
              "      border-color: transparent;\n",
              "      border-left-color: var(--fill-color);\n",
              "      border-top-color: var(--fill-color);\n",
              "    }\n",
              "    30% {\n",
              "      border-color: transparent;\n",
              "      border-left-color: var(--fill-color);\n",
              "      border-top-color: var(--fill-color);\n",
              "      border-right-color: var(--fill-color);\n",
              "    }\n",
              "    40% {\n",
              "      border-color: transparent;\n",
              "      border-right-color: var(--fill-color);\n",
              "      border-top-color: var(--fill-color);\n",
              "    }\n",
              "    60% {\n",
              "      border-color: transparent;\n",
              "      border-right-color: var(--fill-color);\n",
              "    }\n",
              "    80% {\n",
              "      border-color: transparent;\n",
              "      border-right-color: var(--fill-color);\n",
              "      border-bottom-color: var(--fill-color);\n",
              "    }\n",
              "    90% {\n",
              "      border-color: transparent;\n",
              "      border-bottom-color: var(--fill-color);\n",
              "    }\n",
              "  }\n",
              "</style>\n",
              "\n",
              "  <script>\n",
              "    async function quickchart(key) {\n",
              "      const quickchartButtonEl =\n",
              "        document.querySelector('#' + key + ' button');\n",
              "      quickchartButtonEl.disabled = true;  // To prevent multiple clicks.\n",
              "      quickchartButtonEl.classList.add('colab-df-spinner');\n",
              "      try {\n",
              "        const charts = await google.colab.kernel.invokeFunction(\n",
              "            'suggestCharts', [key], {});\n",
              "      } catch (error) {\n",
              "        console.error('Error during call to suggestCharts:', error);\n",
              "      }\n",
              "      quickchartButtonEl.classList.remove('colab-df-spinner');\n",
              "      quickchartButtonEl.classList.add('colab-df-quickchart-complete');\n",
              "    }\n",
              "    (() => {\n",
              "      let quickchartButtonEl =\n",
              "        document.querySelector('#df-842c6262-a167-4f0c-b73d-1dd15d817793 button');\n",
              "      quickchartButtonEl.style.display =\n",
              "        google.colab.kernel.accessAllowed ? 'block' : 'none';\n",
              "    })();\n",
              "  </script>\n",
              "</div>\n",
              "    </div>\n",
              "  </div>\n"
            ]
          },
          "metadata": {},
          "execution_count": 24
        }
      ]
    },
    {
      "cell_type": "code",
      "source": [
        "control_data = data[data[\"user_type\"]==\"control\"][\"converted\"]\n",
        "variation_data = data[data[\"user_type\"]==\"variation\"][\"converted\"]\n",
        "\n",
        "print(f\"{len(control_data)} users saw the original app with an average CVR of {control_data.mean():.4f}\\n\")\n",
        "print(f\"{len(variation_data)} users saw the app with the new feature with an average CVR of {variation_data.mean():.4f}\")"
      ],
      "metadata": {
        "colab": {
          "base_uri": "https://localhost:8080/"
        },
        "id": "tSwiWi3UO15m",
        "outputId": "b09cd9e4-6d8a-4057-b48c-03fdf5357c3e"
      },
      "execution_count": 25,
      "outputs": [
        {
          "output_type": "stream",
          "name": "stdout",
          "text": [
            "4632 users saw the original app with an average CVR of 0.1244\n",
            "\n",
            "4728 users saw the app with the new feature with an average CVR of 0.1519\n"
          ]
        }
      ]
    },
    {
      "cell_type": "markdown",
      "source": [
        "z-statistic:\n",
        "\n",
        "$$ z = \\frac{\\hat{p}_1 - \\hat{p}_2}{\\sqrt{\\hat{p}(1-\\hat{p})\\left(\\frac{1}{n_1} + \\frac{1}{n_2}\\right)}}$$\n",
        "\n",
        "where $\\hat{p}$ is the pooled proportion: $\\hat{p} = \\frac{x_1 + x_2}{n_1 + n_2}$"
      ],
      "metadata": {
        "id": "3K2-0CtqXFQu"
      }
    },
    {
      "cell_type": "code",
      "source": [
        "@dataclass\n",
        "class estimation_metrics_prop:\n",
        "    n: int\n",
        "    x: int\n",
        "    p: float\n",
        "\n",
        "    def __repr__(self):\n",
        "        return f\"sample_params(n={self.n}, x={self.x}, p={self.p:.3f})\""
      ],
      "metadata": {
        "id": "twmbZqbMO18S"
      },
      "execution_count": 26,
      "outputs": []
    },
    {
      "cell_type": "code",
      "source": [
        "def compute_proportion_metrics(data):\n",
        "    \"\"\"Computes the relevant metrics out of a sample for proportion-like data.\n",
        "\n",
        "    Args:\n",
        "        data (pandas.core.series.Series): The sample data. In this case 1 if the user converted and 0 otherwise.\n",
        "\n",
        "    Returns:\n",
        "        estimation_metrics_prop: The metrics saved in a dataclass instance.\n",
        "    \"\"\"\n",
        "\n",
        "    metrics = estimation_metrics_prop(\n",
        "        n=len(data),\n",
        "        x=data.sum(),\n",
        "        p=data.mean()\n",
        "    )\n",
        "\n",
        "    return metrics"
      ],
      "metadata": {
        "id": "09XtHvqIO1_P"
      },
      "execution_count": 27,
      "outputs": []
    },
    {
      "cell_type": "code",
      "source": [
        "cm = compute_proportion_metrics(np.array([1,0,0,1]))\n",
        "print(f\"n={cm.n}, x={cm.x} and p={cm.p:.4f} for sample array\\n\")\n",
        "\n",
        "control_metrics = compute_proportion_metrics(control_data)\n",
        "print(f\"n={control_metrics.n}, x={control_metrics.x} and p={control_metrics.p:.4f} for control data\\n\")\n",
        "\n",
        "variation_metrics = compute_proportion_metrics(variation_data)\n",
        "print(f\"n={variation_metrics.n}, x={variation_metrics.x} and p={variation_metrics.p:.4f} for variation data\")"
      ],
      "metadata": {
        "colab": {
          "base_uri": "https://localhost:8080/"
        },
        "id": "Eit3eKNHO2CR",
        "outputId": "4ec86062-7db3-45d6-f4d4-65f44c519b83"
      },
      "execution_count": 28,
      "outputs": [
        {
          "output_type": "stream",
          "name": "stdout",
          "text": [
            "n=4, x=2 and p=0.5000 for sample array\n",
            "\n",
            "n=4632, x=576 and p=0.1244 for control data\n",
            "\n",
            "n=4728, x=718 and p=0.1519 for variation data\n"
          ]
        }
      ]
    },
    {
      "cell_type": "code",
      "source": [
        "def pooled_proportion(control_metrics, variation_metrics):\n",
        "    \"\"\"Compute the pooled proportion for the two samples.\n",
        "\n",
        "    Args:\n",
        "        control_metrics (estimation_metrics_prop): The metrics for the control sample.\n",
        "        variation_metrics (estimation_metrics_prop): The metrics for the variation sample.\n",
        "\n",
        "    Returns:\n",
        "        numpy.float: The pooled proportion.\n",
        "    \"\"\"\n",
        "    x1,n1 = control_metrics.x, control_metrics.n\n",
        "    x2,n2 = variation_metrics.x,variation_metrics.n\n",
        "\n",
        "    pp = (x1 + x2) / (n1 + n2)\n",
        "\n",
        "    return pp"
      ],
      "metadata": {
        "id": "lgU1AiGznuI5"
      },
      "execution_count": 31,
      "outputs": []
    },
    {
      "cell_type": "code",
      "source": [
        "test_m1, test_m2 = compute_proportion_metrics(np.array([1,0,1])), compute_proportion_metrics(np.array([1,1,1,0]))\n",
        "pp = pooled_proportion(test_m1, test_m2)\n",
        "print(f\"pooled proportion for example arrays: {pp:.4f}\\n\")\n",
        "\n",
        "pp = pooled_proportion(control_metrics, variation_metrics)\n",
        "print(f\"pooled proportion for AB test samples: {pp:.4f}\")"
      ],
      "metadata": {
        "colab": {
          "base_uri": "https://localhost:8080/"
        },
        "id": "osvFJVdbYWlL",
        "outputId": "5bb12f05-bcb4-490d-e520-30791b36a981"
      },
      "execution_count": 32,
      "outputs": [
        {
          "output_type": "stream",
          "name": "stdout",
          "text": [
            "pooled proportion for example arrays: 0.7143\n",
            "\n",
            "pooled proportion for AB test samples: 0.1382\n"
          ]
        }
      ]
    },
    {
      "cell_type": "code",
      "source": [
        "def z_statistic_diff_proportions(control_metrics, variation_metrics):\n",
        "    \"\"\"Compute the z-statistic for the difference of two proportions.\n",
        "\n",
        "    Args:\n",
        "        control_metrics (estimation_metrics_prop): The metrics for the control sample.\n",
        "        variation_metrics (estimation_metrics_prop): The metrics for the variation sample.\n",
        "\n",
        "    Returns:\n",
        "        numpy.float: The z-statistic.\n",
        "    \"\"\"\n",
        "    pp = pooled_proportion(control_metrics, variation_metrics)\n",
        "\n",
        "    n1,p1 = control_metrics.n,control_metrics.p\n",
        "    n2,p2 = variation_metrics.n,variation_metrics.p\n",
        "\n",
        "    z = (p1 - p2) / np.sqrt(pp * (1 - pp) * ((1/n1) + (1/n2)))\n",
        "    return z"
      ],
      "metadata": {
        "id": "5XHMR5gNYWoY"
      },
      "execution_count": 33,
      "outputs": []
    },
    {
      "cell_type": "code",
      "source": [
        "z = z_statistic_diff_proportions(test_m1, test_m2)\n",
        "print(f\"z statistic for example arrays: {z:.4f}\\n\")\n",
        "\n",
        "z = z_statistic_diff_proportions(control_metrics, variation_metrics)\n",
        "print(f\"z statistic for AB test: {z:.4f}\")"
      ],
      "metadata": {
        "colab": {
          "base_uri": "https://localhost:8080/"
        },
        "id": "JITT-8ViYWrn",
        "outputId": "ae048854-9972-47bc-ab98-f1b2bd679e0a"
      },
      "execution_count": 34,
      "outputs": [
        {
          "output_type": "stream",
          "name": "stdout",
          "text": [
            "z statistic for example arrays: -0.2415\n",
            "\n",
            "z statistic for AB test: -3.8551\n"
          ]
        }
      ]
    },
    {
      "cell_type": "code",
      "source": [
        "def reject_nh_z_statistic(z_statistic, alpha=0.05):\n",
        "    \"\"\"Decide whether to reject (or not) the null hypothesis of the z-test.\n",
        "\n",
        "    Args:\n",
        "        z_statistic (numpy.float): The computed value of the z-statistic for the two proportions.\n",
        "        alpha (float, optional): The desired level of significancy. Defaults to 0.05.\n",
        "\n",
        "    Returns:\n",
        "        bool: True if the null hypothesis should be rejected. False otherwise.\n",
        "    \"\"\"\n",
        "    reject = False\n",
        "    p_value = 2 * (1 - stats.norm.cdf(np.abs(z_statistic)))\n",
        "\n",
        "    if p_value < alpha:\n",
        "        reject = True\n",
        "\n",
        "    return reject"
      ],
      "metadata": {
        "id": "Nlx5kSIIYWvs"
      },
      "execution_count": 35,
      "outputs": []
    },
    {
      "cell_type": "code",
      "source": [
        "alpha = 0.05\n",
        "reject_nh = reject_nh_z_statistic(z, alpha)\n",
        "\n",
        "print(f\"The null hypothesis can be rejected at the {alpha} level of significance: {reject_nh}\\n\")\n",
        "\n",
        "msg = \"\" if reject_nh else \" not\"\n",
        "print(f\"There is{msg} enough statistical evidence against H0.\\nThus it can be concluded that there is{msg} a statistically significant difference between the two proportions.\")"
      ],
      "metadata": {
        "colab": {
          "base_uri": "https://localhost:8080/"
        },
        "id": "HH4XNnkBYWzR",
        "outputId": "6c276f92-0e2f-4fbb-ba10-7958feada1a1"
      },
      "execution_count": 36,
      "outputs": [
        {
          "output_type": "stream",
          "name": "stdout",
          "text": [
            "The null hypothesis can be rejected at the 0.05 level of significance: True\n",
            "\n",
            "There is enough statistical evidence against H0.\n",
            "Thus it can be concluded that there is a statistically significant difference between the two proportions.\n"
          ]
        }
      ]
    },
    {
      "cell_type": "markdown",
      "source": [
        "$$ \\hat{p} \\pm z_{1-\\alpha/2} \\sqrt{\\frac{\\hat{p}(1-\\hat{p})}{n}}$$"
      ],
      "metadata": {
        "id": "7z72giKQdL7o"
      }
    },
    {
      "cell_type": "code",
      "source": [
        "def confidence_interval_proportion(metrics, alpha=0.05):\n",
        "    \"\"\"Compute the confidende interval for a proportion-like sample.\n",
        "\n",
        "    Args:\n",
        "        metrics (estimation_metrics_prop): The metrics for the sample.\n",
        "        alpha (float, optional): The desired level of significance. Defaults to 0.05.\n",
        "\n",
        "    Returns:\n",
        "        (numpy.float, numpy.float): The lower and upper bounds of the confidence interval.\n",
        "    \"\"\"\n",
        "    n, p = metrics.n, metrics.p\n",
        "    distance = stats.norm.ppf(1 - alpha / 2) * np.sqrt(p * (1 - p) / n)\n",
        "\n",
        "    lower = p - distance\n",
        "    upper = p + distance\n",
        "\n",
        "    return lower, upper"
      ],
      "metadata": {
        "id": "_XFwBC5RYW3G"
      },
      "execution_count": 37,
      "outputs": []
    },
    {
      "cell_type": "code",
      "source": [
        "c_lower, c_upper = confidence_interval_proportion(control_metrics)\n",
        "print(f\"Confidence interval for control group: [{c_lower:.3f}, {c_upper:.3f}]\\n\")\n",
        "\n",
        "v_lower, v_upper = confidence_interval_proportion(variation_metrics)\n",
        "print(f\"Confidence interval for variation group: [{v_lower:.3f}, {v_upper:.3f}]\")"
      ],
      "metadata": {
        "colab": {
          "base_uri": "https://localhost:8080/"
        },
        "id": "hDKY8ytrYW7l",
        "outputId": "b04f51ed-2c30-490b-924b-f7dc2694b01e"
      },
      "execution_count": 38,
      "outputs": [
        {
          "output_type": "stream",
          "name": "stdout",
          "text": [
            "Confidence interval for control group: [0.115, 0.134]\n",
            "\n",
            "Confidence interval for variation group: [0.142, 0.162]\n"
          ]
        }
      ]
    },
    {
      "cell_type": "code",
      "source": [
        "utils.AB_test_dashboard(z_statistic_diff_proportions, reject_nh_z_statistic)"
      ],
      "metadata": {
        "colab": {
          "base_uri": "https://localhost:8080/",
          "height": 278,
          "referenced_widgets": [
            "f7270a636d9f410583ec97a9b70546ec",
            "20b5eb0a584744bcbffba8ec208b94da",
            "4c6c14f4c3014c918de88b231f9c0ea4",
            "d978fd23f50c47e7bd256c4f58ccae41",
            "38ae4c0d7a19458aa2257e87c443a834",
            "59af42c441364d4eafc27baa87069bd4",
            "6bed57ca5eb74ee7b0480abc1dfe43ba",
            "c32540de38334558b55acaf30acf320b",
            "4d720b47d86f467d91d7ec95bfb9d40f",
            "82138dc5048943f1ba1b5ce1ace6a747",
            "9d9f54c705814b1a8d2e5d1fbb6093d7",
            "246e675d5a8440c98242d397c95b6ea9",
            "2a8dd47570834d51b73e6373e78f44b6",
            "4b88bb7a0d7f4b1980d10ed4cbff1413",
            "fb1c576484bf453d82bcd6ffac36d07a",
            "cfee9f526c1f4078a7510f9a5c28ae97",
            "41e02c2d1dc24e7180d2d00e38ce20b2",
            "20e33217b137455aa9090f888f0e615e",
            "1330f72736b54b149bab0acf78184539",
            "61407359cfbe40eda20993dd2d23c8a4",
            "d9bea8201ff5417398e2bedf7e426d85",
            "2a86b24754ef4b589df27683e0620258"
          ]
        },
        "id": "BoLk_gzcYXKd",
        "outputId": "e135b81e-117b-4ae3-9a98-0b25e83b01a7"
      },
      "execution_count": 39,
      "outputs": [
        {
          "output_type": "display_data",
          "data": {
            "text/plain": [
              "interactive(children=(IntText(value=4632, description='Users A:'), IntText(value=576, description='Conversions…"
            ],
            "application/vnd.jupyter.widget-view+json": {
              "version_major": 2,
              "version_minor": 0,
              "model_id": "f7270a636d9f410583ec97a9b70546ec"
            }
          },
          "metadata": {}
        }
      ]
    }
  ]
}